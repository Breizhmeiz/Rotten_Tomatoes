{
 "cells": [
  {
   "cell_type": "markdown",
   "metadata": {},
   "source": [
    "## 1) Import et visialisation du dataset choisi : Rotten Tomatoes"
   ]
  },
  {
   "cell_type": "code",
   "execution_count": 1,
   "metadata": {},
   "outputs": [],
   "source": [
    "import pandas as pd\n",
    "import numpy as np\n",
    "\n",
    "import matplotlib.pyplot as plt\n",
    "import seaborn as sns"
   ]
  },
  {
   "cell_type": "code",
   "execution_count": 2,
   "metadata": {
    "scrolled": false
   },
   "outputs": [
    {
     "data": {
      "text/html": [
       "<div>\n",
       "<style scoped>\n",
       "    .dataframe tbody tr th:only-of-type {\n",
       "        vertical-align: middle;\n",
       "    }\n",
       "\n",
       "    .dataframe tbody tr th {\n",
       "        vertical-align: top;\n",
       "    }\n",
       "\n",
       "    .dataframe thead th {\n",
       "        text-align: right;\n",
       "    }\n",
       "</style>\n",
       "<table border=\"1\" class=\"dataframe\">\n",
       "  <thead>\n",
       "    <tr style=\"text-align: right;\">\n",
       "      <th></th>\n",
       "      <th>rotten_tomatoes_link</th>\n",
       "      <th>movie_title</th>\n",
       "      <th>movie_info</th>\n",
       "      <th>critics_consensus</th>\n",
       "      <th>content_rating</th>\n",
       "      <th>genres</th>\n",
       "      <th>directors</th>\n",
       "      <th>authors</th>\n",
       "      <th>actors</th>\n",
       "      <th>original_release_date</th>\n",
       "      <th>...</th>\n",
       "      <th>production_company</th>\n",
       "      <th>tomatometer_status</th>\n",
       "      <th>tomatometer_rating</th>\n",
       "      <th>tomatometer_count</th>\n",
       "      <th>audience_status</th>\n",
       "      <th>audience_rating</th>\n",
       "      <th>audience_count</th>\n",
       "      <th>tomatometer_top_critics_count</th>\n",
       "      <th>tomatometer_fresh_critics_count</th>\n",
       "      <th>tomatometer_rotten_critics_count</th>\n",
       "    </tr>\n",
       "  </thead>\n",
       "  <tbody>\n",
       "    <tr>\n",
       "      <th>0</th>\n",
       "      <td>m/0814255</td>\n",
       "      <td>Percy Jackson &amp; the Olympians: The Lightning T...</td>\n",
       "      <td>Always trouble-prone, the life of teenager Per...</td>\n",
       "      <td>Though it may seem like just another Harry Pot...</td>\n",
       "      <td>PG</td>\n",
       "      <td>Action &amp; Adventure, Comedy, Drama, Science Fic...</td>\n",
       "      <td>Chris Columbus</td>\n",
       "      <td>Craig Titley, Chris Columbus, Rick Riordan</td>\n",
       "      <td>Logan Lerman, Brandon T. Jackson, Alexandra Da...</td>\n",
       "      <td>2010-02-12</td>\n",
       "      <td>...</td>\n",
       "      <td>20th Century Fox</td>\n",
       "      <td>Rotten</td>\n",
       "      <td>49.0</td>\n",
       "      <td>149.0</td>\n",
       "      <td>Spilled</td>\n",
       "      <td>53.0</td>\n",
       "      <td>254421.0</td>\n",
       "      <td>43</td>\n",
       "      <td>73</td>\n",
       "      <td>76</td>\n",
       "    </tr>\n",
       "    <tr>\n",
       "      <th>1</th>\n",
       "      <td>m/0878835</td>\n",
       "      <td>Please Give</td>\n",
       "      <td>Kate (Catherine Keener) and her husband Alex (...</td>\n",
       "      <td>Nicole Holofcener's newest might seem slight i...</td>\n",
       "      <td>R</td>\n",
       "      <td>Comedy</td>\n",
       "      <td>Nicole Holofcener</td>\n",
       "      <td>Nicole Holofcener</td>\n",
       "      <td>Catherine Keener, Amanda Peet, Oliver Platt, R...</td>\n",
       "      <td>2010-04-30</td>\n",
       "      <td>...</td>\n",
       "      <td>Sony Pictures Classics</td>\n",
       "      <td>Certified-Fresh</td>\n",
       "      <td>87.0</td>\n",
       "      <td>142.0</td>\n",
       "      <td>Upright</td>\n",
       "      <td>64.0</td>\n",
       "      <td>11574.0</td>\n",
       "      <td>44</td>\n",
       "      <td>123</td>\n",
       "      <td>19</td>\n",
       "    </tr>\n",
       "    <tr>\n",
       "      <th>2</th>\n",
       "      <td>m/10</td>\n",
       "      <td>10</td>\n",
       "      <td>A successful, middle-aged Hollywood songwriter...</td>\n",
       "      <td>Blake Edwards' bawdy comedy may not score a pe...</td>\n",
       "      <td>R</td>\n",
       "      <td>Comedy, Romance</td>\n",
       "      <td>Blake Edwards</td>\n",
       "      <td>Blake Edwards</td>\n",
       "      <td>Dudley Moore, Bo Derek, Julie Andrews, Robert ...</td>\n",
       "      <td>1979-10-05</td>\n",
       "      <td>...</td>\n",
       "      <td>Waner Bros.</td>\n",
       "      <td>Fresh</td>\n",
       "      <td>67.0</td>\n",
       "      <td>24.0</td>\n",
       "      <td>Spilled</td>\n",
       "      <td>53.0</td>\n",
       "      <td>14684.0</td>\n",
       "      <td>2</td>\n",
       "      <td>16</td>\n",
       "      <td>8</td>\n",
       "    </tr>\n",
       "    <tr>\n",
       "      <th>3</th>\n",
       "      <td>m/1000013-12_angry_men</td>\n",
       "      <td>12 Angry Men (Twelve Angry Men)</td>\n",
       "      <td>Following the closing arguments in a murder tr...</td>\n",
       "      <td>Sidney Lumet's feature debut is a superbly wri...</td>\n",
       "      <td>NR</td>\n",
       "      <td>Classics, Drama</td>\n",
       "      <td>Sidney Lumet</td>\n",
       "      <td>Reginald Rose</td>\n",
       "      <td>Martin Balsam, John Fiedler, Lee J. Cobb, E.G....</td>\n",
       "      <td>1957-04-13</td>\n",
       "      <td>...</td>\n",
       "      <td>Criterion Collection</td>\n",
       "      <td>Certified-Fresh</td>\n",
       "      <td>100.0</td>\n",
       "      <td>54.0</td>\n",
       "      <td>Upright</td>\n",
       "      <td>97.0</td>\n",
       "      <td>105386.0</td>\n",
       "      <td>6</td>\n",
       "      <td>54</td>\n",
       "      <td>0</td>\n",
       "    </tr>\n",
       "    <tr>\n",
       "      <th>4</th>\n",
       "      <td>m/1000079-20000_leagues_under_the_sea</td>\n",
       "      <td>20,000 Leagues Under The Sea</td>\n",
       "      <td>In 1866, Professor Pierre M. Aronnax (Paul Luk...</td>\n",
       "      <td>One of Disney's finest live-action adventures,...</td>\n",
       "      <td>G</td>\n",
       "      <td>Action &amp; Adventure, Drama, Kids &amp; Family</td>\n",
       "      <td>Richard Fleischer</td>\n",
       "      <td>Earl Felton</td>\n",
       "      <td>James Mason, Kirk Douglas, Paul Lukas, Peter L...</td>\n",
       "      <td>1954-01-01</td>\n",
       "      <td>...</td>\n",
       "      <td>Disney</td>\n",
       "      <td>Fresh</td>\n",
       "      <td>89.0</td>\n",
       "      <td>27.0</td>\n",
       "      <td>Upright</td>\n",
       "      <td>74.0</td>\n",
       "      <td>68918.0</td>\n",
       "      <td>5</td>\n",
       "      <td>24</td>\n",
       "      <td>3</td>\n",
       "    </tr>\n",
       "  </tbody>\n",
       "</table>\n",
       "<p>5 rows × 22 columns</p>\n",
       "</div>"
      ],
      "text/plain": [
       "                    rotten_tomatoes_link  \\\n",
       "0                              m/0814255   \n",
       "1                              m/0878835   \n",
       "2                                   m/10   \n",
       "3                 m/1000013-12_angry_men   \n",
       "4  m/1000079-20000_leagues_under_the_sea   \n",
       "\n",
       "                                         movie_title  \\\n",
       "0  Percy Jackson & the Olympians: The Lightning T...   \n",
       "1                                        Please Give   \n",
       "2                                                 10   \n",
       "3                    12 Angry Men (Twelve Angry Men)   \n",
       "4                       20,000 Leagues Under The Sea   \n",
       "\n",
       "                                          movie_info  \\\n",
       "0  Always trouble-prone, the life of teenager Per...   \n",
       "1  Kate (Catherine Keener) and her husband Alex (...   \n",
       "2  A successful, middle-aged Hollywood songwriter...   \n",
       "3  Following the closing arguments in a murder tr...   \n",
       "4  In 1866, Professor Pierre M. Aronnax (Paul Luk...   \n",
       "\n",
       "                                   critics_consensus content_rating  \\\n",
       "0  Though it may seem like just another Harry Pot...             PG   \n",
       "1  Nicole Holofcener's newest might seem slight i...              R   \n",
       "2  Blake Edwards' bawdy comedy may not score a pe...              R   \n",
       "3  Sidney Lumet's feature debut is a superbly wri...             NR   \n",
       "4  One of Disney's finest live-action adventures,...              G   \n",
       "\n",
       "                                              genres          directors  \\\n",
       "0  Action & Adventure, Comedy, Drama, Science Fic...     Chris Columbus   \n",
       "1                                             Comedy  Nicole Holofcener   \n",
       "2                                    Comedy, Romance      Blake Edwards   \n",
       "3                                    Classics, Drama       Sidney Lumet   \n",
       "4           Action & Adventure, Drama, Kids & Family  Richard Fleischer   \n",
       "\n",
       "                                      authors  \\\n",
       "0  Craig Titley, Chris Columbus, Rick Riordan   \n",
       "1                           Nicole Holofcener   \n",
       "2                               Blake Edwards   \n",
       "3                               Reginald Rose   \n",
       "4                                 Earl Felton   \n",
       "\n",
       "                                              actors original_release_date  \\\n",
       "0  Logan Lerman, Brandon T. Jackson, Alexandra Da...            2010-02-12   \n",
       "1  Catherine Keener, Amanda Peet, Oliver Platt, R...            2010-04-30   \n",
       "2  Dudley Moore, Bo Derek, Julie Andrews, Robert ...            1979-10-05   \n",
       "3  Martin Balsam, John Fiedler, Lee J. Cobb, E.G....            1957-04-13   \n",
       "4  James Mason, Kirk Douglas, Paul Lukas, Peter L...            1954-01-01   \n",
       "\n",
       "   ...      production_company  tomatometer_status tomatometer_rating  \\\n",
       "0  ...        20th Century Fox              Rotten               49.0   \n",
       "1  ...  Sony Pictures Classics     Certified-Fresh               87.0   \n",
       "2  ...             Waner Bros.               Fresh               67.0   \n",
       "3  ...    Criterion Collection     Certified-Fresh              100.0   \n",
       "4  ...                  Disney               Fresh               89.0   \n",
       "\n",
       "  tomatometer_count  audience_status  audience_rating audience_count  \\\n",
       "0             149.0          Spilled             53.0       254421.0   \n",
       "1             142.0          Upright             64.0        11574.0   \n",
       "2              24.0          Spilled             53.0        14684.0   \n",
       "3              54.0          Upright             97.0       105386.0   \n",
       "4              27.0          Upright             74.0        68918.0   \n",
       "\n",
       "   tomatometer_top_critics_count  tomatometer_fresh_critics_count  \\\n",
       "0                             43                               73   \n",
       "1                             44                              123   \n",
       "2                              2                               16   \n",
       "3                              6                               54   \n",
       "4                              5                               24   \n",
       "\n",
       "   tomatometer_rotten_critics_count  \n",
       "0                                76  \n",
       "1                                19  \n",
       "2                                 8  \n",
       "3                                 0  \n",
       "4                                 3  \n",
       "\n",
       "[5 rows x 22 columns]"
      ]
     },
     "execution_count": 2,
     "metadata": {},
     "output_type": "execute_result"
    }
   ],
   "source": [
    "df=pd.read_csv('rotten_tomatoes_movies.csv')\n",
    "df.head()"
   ]
  },
  {
   "cell_type": "markdown",
   "metadata": {},
   "source": [
    "Information du jeu de données"
   ]
  },
  {
   "cell_type": "code",
   "execution_count": 3,
   "metadata": {},
   "outputs": [
    {
     "name": "stdout",
     "output_type": "stream",
     "text": [
      "<class 'pandas.core.frame.DataFrame'>\n",
      "RangeIndex: 17712 entries, 0 to 17711\n",
      "Data columns (total 22 columns):\n",
      " #   Column                            Non-Null Count  Dtype  \n",
      "---  ------                            --------------  -----  \n",
      " 0   rotten_tomatoes_link              17712 non-null  object \n",
      " 1   movie_title                       17712 non-null  object \n",
      " 2   movie_info                        17391 non-null  object \n",
      " 3   critics_consensus                 9134 non-null   object \n",
      " 4   content_rating                    17712 non-null  object \n",
      " 5   genres                            17693 non-null  object \n",
      " 6   directors                         17518 non-null  object \n",
      " 7   authors                           16170 non-null  object \n",
      " 8   actors                            17360 non-null  object \n",
      " 9   original_release_date             16546 non-null  object \n",
      " 10  streaming_release_date            17328 non-null  object \n",
      " 11  runtime                           17398 non-null  float64\n",
      " 12  production_company                17213 non-null  object \n",
      " 13  tomatometer_status                17668 non-null  object \n",
      " 14  tomatometer_rating                17668 non-null  float64\n",
      " 15  tomatometer_count                 17668 non-null  float64\n",
      " 16  audience_status                   17264 non-null  object \n",
      " 17  audience_rating                   17416 non-null  float64\n",
      " 18  audience_count                    17415 non-null  float64\n",
      " 19  tomatometer_top_critics_count     17712 non-null  int64  \n",
      " 20  tomatometer_fresh_critics_count   17712 non-null  int64  \n",
      " 21  tomatometer_rotten_critics_count  17712 non-null  int64  \n",
      "dtypes: float64(5), int64(3), object(14)\n",
      "memory usage: 3.0+ MB\n"
     ]
    }
   ],
   "source": [
    "df.info()"
   ]
  },
  {
   "cell_type": "code",
   "execution_count": 4,
   "metadata": {
    "scrolled": true
   },
   "outputs": [
    {
     "data": {
      "text/plain": [
       "Index(['rotten_tomatoes_link', 'movie_title', 'movie_info',\n",
       "       'critics_consensus', 'content_rating', 'genres', 'directors', 'authors',\n",
       "       'actors', 'original_release_date', 'streaming_release_date', 'runtime',\n",
       "       'production_company', 'tomatometer_status', 'tomatometer_rating',\n",
       "       'tomatometer_count', 'audience_status', 'audience_rating',\n",
       "       'audience_count', 'tomatometer_top_critics_count',\n",
       "       'tomatometer_fresh_critics_count', 'tomatometer_rotten_critics_count'],\n",
       "      dtype='object')"
      ]
     },
     "execution_count": 4,
     "metadata": {},
     "output_type": "execute_result"
    }
   ],
   "source": [
    "list = df.columns\n",
    "list"
   ]
  },
  {
   "cell_type": "markdown",
   "metadata": {},
   "source": [
    "## 2) analyse statistique "
   ]
  },
  {
   "cell_type": "code",
   "execution_count": 5,
   "metadata": {},
   "outputs": [
    {
     "name": "stdout",
     "output_type": "stream",
     "text": [
      "m/0814255                    1\n",
      "m/phoenix_1998               1\n",
      "m/phyllis_and_harold_2008    1\n",
      "m/photographing_fairies      1\n",
      "m/phone_booth                1\n",
      "                            ..\n",
      "m/edward_scissorhands        1\n",
      "m/edwin_boyd_2012            1\n",
      "m/eegah                      1\n",
      "m/egg_2019                   1\n",
      "m/zulu_dawn                  1\n",
      "Name: rotten_tomatoes_link, Length: 17712, dtype: int64\n",
      "Hamlet               6\n",
      "Home                 5\n",
      "Gloria               4\n",
      "Little Women         4\n",
      "The Mummy            4\n",
      "                    ..\n",
      "Executive Suite      1\n",
      "Exhibition           1\n",
      "Fong juk (Exiled)    1\n",
      "Existenz             1\n",
      "Zulu Dawn            1\n",
      "Name: movie_title, Length: 17106, dtype: int64\n",
      "Wisecracking mercenary Deadpool meets Russell, an angry teenage mutant who lives at an orphanage. When Russell becomes the target of Cable -- a genetically enhanced soldier from the future -- Deadpool realizes that he'll need some help saving the boy from such a superior enemy. He soon joins forces with Bedlam, Shatterstar, Domino and other powerful mutants to protect young Russell from Cable and his advanced weaponry.                                                                             2\n",
      "An anthology of horror tales.                                                                                                                                                                                                                                                                                                                                                                                                                                                                                      2\n",
      "Always trouble-prone, the life of teenager Percy Jackson (Logan Lerman) gets a lot more complicated when he learns he's the son of the Greek god Poseidon. At a training ground for the children of deities, Percy learns to harness his divine powers and prepare for the adventure of a lifetime: he must prevent a feud among the Olympians from erupting into a devastating war on Earth, and rescue his mother from the clutches of Hades, god of the underworld.                                             1\n",
      "A hapless extraterrestrial (Rob Stefaniuk) finds adventure after his ship crashes in Canada.                                                                                                                                                                                                                                                                                                                                                                                                                       1\n",
      "A depressed dentist amid a mid-life crisis struggles to come to terms with the reasons why one of his patients who seemed to have it all would commit suicide.                                                                                                                                                                                                                                                                                                                                                     1\n",
      "                                                                                                                                                                                                                                                                                                                                                                                                                                                                                                                  ..\n",
      "Jack Cooper (Matt LeBlanc) could be a world-class baseball pitcher if he didn't keep buckling under the pressure. He tries to keep his spirits up after he's traded to a minor league team but loses all hope when he discovers that Ed, one of his teammates, is a chimp. Ed used to be the team mascot, but was promoted to third base when the owners realized he had a talent for baseball. As Jack struggles to get used to his new surroundings, Ed helps him regain his confidence on and off the field.    1\n",
      "\"Ed Gein\" is based closely on the life of the famed Wisconsin serial killer. The kind folks in Plainfield, Wis., think Ed Gein is just a shy, eccentric farmer. But Ed knows differently. With the ghost of his mother compelling him, Ed can no longer resist the allure of Plainfield's women, and his fierce desire to experience a real, live kill or two.                                                                                                                                                     1\n",
      "Because of his eccentric habits and bafflingly strange films, director Ed Wood (Johnny Depp) is a Hollywood outcast. Nevertheless, with the help of the formerly famous Bela Lugosi and a devoted cast and crew of show-business misfits who believe in Ed's off-kilter vision, the filmmaker is able to bring his oversize dreams to cinematic life. Despite a lack of critical or commercial success, Ed and his friends manage to create an oddly endearing series of extremely low-budget films.               1\n",
      "More than 350,000 people celebrate electronic dance music at the 2013 Electric Daisy Carnival in Las Vegas.                                                                                                                                                                                                                                                                                                                                                                                                        1\n",
      "Sir Henry Bartle Frere's (John Mills) vastly outnumbered garrison makes a stand against natives at Isandhlwana in 1879.                                                                                                                                                                                                                                                                                                                                                                                            1\n",
      "Name: movie_info, Length: 17389, dtype: int64\n",
      "High Life is as visually arresting as it is challenging, confounding, and ultimately rewarding - which is to say it's everything film fans expect from director Claire Denis.             2\n",
      "Extinction has a few intriguing ideas, but they -- and some game performances from its talented stars -- are lost in the movie's muddled plot and frustrating pacing.                     2\n",
      "Though it may seem like just another Harry Potter knockoff, Percy Jackson benefits from a strong supporting cast, a speedy plot, and plenty of fun with Greek mythology.                  1\n",
      "Thrilling and thought-provoking, Point and Shoot captures one man's fascinating -- if troublingly narcissistic -- \"crash course in manhood.\"                                              1\n",
      "Please Stand By hits a number of familiar coming-of-age beats, but adds just enough of a Trek-fueled twist to keep things interesting.                                                    1\n",
      "                                                                                                                                                                                         ..\n",
      "The Emperor's New Groove isn't the most ambitious animated film, but its brisk pace, fresh characters, and big laughs make for a great time for the whole family.                         1\n",
      "The premise of The Emperor's New Clothes is intriguing, and Holm gives a delightful performance.                                                                                          1\n",
      "Despite a typically strong performance from Tommy Lee Jones, Emperor does little with its fascinating historical palate, and is instead bogged down in a cliched romantic subplot.        1\n",
      "A powerful real-life story that's strong enough to overcome the Hollywood touches added in its telling, Emmanuel's Gift is an uplifting celebration of the human spirit.                  1\n",
      "Zulu patiently establishes a cast of colorful characters and insurmountable stakes before unleashing its white-knuckle spectacle, delivering an unforgettable war epic in the bargain.    1\n",
      "Name: critics_consensus, Length: 9132, dtype: int64\n",
      "R        6377\n",
      "NR       5474\n",
      "PG-13    2979\n",
      "PG       2168\n",
      "G         676\n",
      "NC17       38\n",
      "Name: content_rating, dtype: int64\n",
      "Drama                                                                                  1887\n",
      "Comedy                                                                                 1263\n",
      "Comedy, Drama                                                                           863\n",
      "Drama, Mystery & Suspense                                                               731\n",
      "Art House & International, Drama                                                        589\n",
      "                                                                                       ... \n",
      "Art House & International, Classics, Cult Movies, Horror, Science Fiction & Fantasy       1\n",
      "Action & Adventure, Cult Movies, Drama, Science Fiction & Fantasy                         1\n",
      "Art House & International, Documentary, Sports & Fitness                                  1\n",
      "Action & Adventure, Drama, Mystery & Suspense, Special Interest                           1\n",
      "Action & Adventure, Drama, Horror, Kids & Family, Mystery & Suspense                      1\n",
      "Name: genres, Length: 1106, dtype: int64\n",
      "Clint Eastwood                          38\n",
      "Alfred Hitchcock                        36\n",
      "Woody Allen                             36\n",
      "Sidney Lumet                            31\n",
      "Steven Spielberg                        30\n",
      "                                        ..\n",
      "Ralph Arlyck                             1\n",
      "Antoine Le                               1\n",
      "Jonathan Gruber, Ari Daniel Pinchot      1\n",
      "John A. Alonzo                           1\n",
      "Byron Howard, Rich Moore, Jared Bush     1\n",
      "Name: directors, Length: 8933, dtype: int64\n",
      "Woody Allen                                       33\n",
      "Werner Herzog                                     20\n",
      "Tyler Perry                                       20\n",
      "Ingmar Bergman                                    19\n",
      "Neil Simon                                        19\n",
      "                                                  ..\n",
      "Luc Besson, Robert Mark Kamen, Matthias Hoene      1\n",
      "Rick Alverson, Gregg Turkington, Tim Heidecker     1\n",
      "Rob Weiss, Doug Ellin                              1\n",
      "William Broyles, Ronald Bass, Jon Amiel            1\n",
      "Cy Endfield, Anthony Storey                        1\n",
      "Name: authors, Length: 12989, dtype: int64\n",
      "Werner Herzog                                                                                                                                                                                                                                                                                                                                                                                                                                                                                                                                                                                                                                                                                                   4\n",
      "Chris Rock                                                                                                                                                                                                                                                                                                                                                                                                                                                                                                                                                                                                                                                                                                      4\n",
      "Jim Gaffigan                                                                                                                                                                                                                                                                                                                                                                                                                                                                                                                                                                                                                                                                                                    4\n",
      "Patton Oswalt                                                                                                                                                                                                                                                                                                                                                                                                                                                                                                                                                                                                                                                                                                   4\n",
      "Richard Pryor                                                                                                                                                                                                                                                                                                                                                                                                                                                                                                                                                                                                                                                                                                   3\n",
      "                                                                                                                                                                                                                                                                                                                                                                                                                                                                                                                                                                                                                                                                                                               ..\n",
      "Pasquale Rotella, Afrojack, Avicii, Gareth Emery, John Francis Dillon, Cedric Gervais, Hardwell, Calvin Harris, Jamie Jones, Alex Kidd, Fatboy Slim, Tiësto, Armin van Buuren                                                                                                                                                                                                                                                                                                                                                                                                                                                                                                                                   1\n",
      "Eddie Murphy, Richard Tienken, Robert D Wachs                                                                                                                                                                                                                                                                                                                                                                                                                                                                                                                                                                                                                                                                   1\n",
      "Eddie Murphy, Pat Golden, Samuel L. Jackson, Tatyana Ali, Gwen McGee, Basil Wallace                                                                                                                                                                                                                                                                                                                                                                                                                                                                                                                                                                                                                             1\n",
      "Taron Egerton, Hugh Jackman, Christopher Walken, Jo Hartley, Daniel Ings, Tim McInnerny, Rune Temte, Edvin Endre, Lasco Atkins, Ania Sowinski, Anastasia Harrold, Daniel Westwood, Tony Paul West, Mads Sjøgård Pettersen, Jessica Allain, Russell Balogh, Marc Benjamin, Mac Pietowski, Bron James, Tomasz Dabrowski, Jassie Mortimer, Graham Fletcher-Cook, Ruth Shaw, Martyn Mayger, Karl Farrer, Katie Hudson, Caolan McClafferty, Anthony Chisholm, Michael Jeffries, Guna Gultniece, Christopher Marsh, Garry Moore, Billy Holland, Laura Black, Kheira Bey, Matthew Brandon, Brent Phebey, Austin Burrows, Sascha Manuel Hodak, Michael Rauth, Jim Broadbent, Iris Berben, Mark Benton, Jack Costello    1\n",
      "Burt Lancaster, Peter O'Toole, Simon Ward, John Mills, Nigel Davenport, Michael Jayston, Ronald Lacey, Denholm Elliott, Freddie Jones, Christopher Cazenove, Ronald Pickup, Donald Pickering, Anna Calder-Marshall, James Faulkner, Peter Vaughan, Graham Armitage, Bob Hoskins, Dai Bradley, Paul Copley, Christopher Chittell, Nicholas Clay, Patrick Mynhardt, Brian O'Shaughnessy, Brian O'Shaunnessy, Simon Sabela, Midge Carter, Phil Daniels, Ken Gampu, Ray Davies                                                                                                                                                                                                                                      1\n",
      "Name: actors, Length: 17330, dtype: int64\n",
      "2002-01-01    29\n",
      "2000-01-01    25\n",
      "2003-01-01    25\n",
      "1988-01-01    25\n",
      "1993-01-01    24\n",
      "              ..\n",
      "1975-09-21     1\n",
      "2018-08-08     1\n",
      "2002-07-20     1\n",
      "2003-05-01     1\n",
      "1964-06-17     1\n",
      "Name: original_release_date, Length: 5804, dtype: int64\n",
      "2016-08-10    1235\n",
      "2012-04-16     671\n",
      "2015-11-25     447\n",
      "2016-11-30     403\n",
      "2013-08-01     276\n",
      "              ... \n",
      "2018-07-07       1\n",
      "2020-01-01       1\n",
      "2015-03-17       1\n",
      "2019-10-16       1\n",
      "2015-09-18       1\n",
      "Name: streaming_release_date, Length: 2271, dtype: int64\n",
      "90.0     834\n",
      "95.0     603\n",
      "100.0    540\n",
      "93.0     539\n",
      "96.0     511\n",
      "        ... \n",
      "254.0      1\n",
      "213.0      1\n",
      "191.0      1\n",
      "240.0      1\n",
      "255.0      1\n",
      "Name: runtime, Length: 190, dtype: int64\n",
      "Paramount Pictures          517\n",
      "Warner Bros. Pictures       509\n",
      "Universal Pictures          495\n",
      "20th Century Fox            423\n",
      "IFC Films                   413\n",
      "                           ... \n",
      "Ocscilloscope Pictures        1\n",
      "Peach Arch Entertainment      1\n",
      "MCR Releasing                 1\n",
      "Abarorama                     1\n",
      "Tango Entertainment           1\n",
      "Name: production_company, Length: 3046, dtype: int64\n",
      "Rotten             7565\n",
      "Fresh              6844\n",
      "Certified-Fresh    3259\n",
      "Name: tomatometer_status, dtype: int64\n",
      "100.0    964\n",
      "50.0     438\n",
      "88.0     408\n",
      "67.0     396\n",
      "83.0     396\n",
      "        ... \n",
      "4.0       46\n",
      "5.0       41\n",
      "3.0       21\n",
      "2.0       11\n",
      "1.0        6\n",
      "Name: tomatometer_rating, Length: 101, dtype: int64\n",
      "5.0      793\n",
      "6.0      728\n",
      "7.0      666\n",
      "8.0      595\n",
      "9.0      532\n",
      "        ... \n",
      "364.0      1\n",
      "379.0      1\n",
      "339.0      1\n",
      "330.0      1\n",
      "295.0      1\n",
      "Name: tomatometer_count, Length: 407, dtype: int64\n",
      "Upright    9390\n",
      "Spilled    7874\n",
      "Name: audience_status, dtype: int64\n",
      "71.0    323\n",
      "72.0    321\n",
      "75.0    319\n",
      "79.0    313\n",
      "78.0    304\n",
      "       ... \n",
      "5.0       4\n",
      "0.0       4\n",
      "7.0       3\n",
      "6.0       2\n",
      "4.0       2\n",
      "Name: audience_rating, Length: 98, dtype: int64\n",
      "5.0         24\n",
      "11.0        22\n",
      "6.0         20\n",
      "71.0        19\n",
      "7.0         18\n",
      "            ..\n",
      "153718.0     1\n",
      "8545.0       1\n",
      "868.0        1\n",
      "15834.0      1\n",
      "30193.0      1\n",
      "Name: audience_count, Length: 11069, dtype: int64\n",
      "0     1528\n",
      "1     1273\n",
      "2     1093\n",
      "3     1088\n",
      "4     1043\n",
      "      ... \n",
      "64       8\n",
      "66       2\n",
      "65       2\n",
      "67       2\n",
      "69       1\n",
      "Name: tomatometer_top_critics_count, Length: 69, dtype: int64\n",
      "5      854\n",
      "4      804\n",
      "6      776\n",
      "3      752\n",
      "2      685\n",
      "      ... \n",
      "317      1\n",
      "235      1\n",
      "351      1\n",
      "300      1\n",
      "374      1\n",
      "Name: tomatometer_fresh_critics_count, Length: 359, dtype: int64\n",
      "1      1298\n",
      "2      1257\n",
      "3      1234\n",
      "4      1181\n",
      "5      1030\n",
      "       ... \n",
      "288       1\n",
      "161       1\n",
      "256       1\n",
      "180       1\n",
      "213       1\n",
      "Name: tomatometer_rotten_critics_count, Length: 206, dtype: int64\n"
     ]
    }
   ],
   "source": [
    "for i in range(len(list)):\n",
    "    #print(i)\n",
    "    print(df[list[i]].value_counts())\n"
   ]
  },
  {
   "cell_type": "code",
   "execution_count": 6,
   "metadata": {
    "scrolled": false
   },
   "outputs": [
    {
     "data": {
      "text/html": [
       "<div>\n",
       "<style scoped>\n",
       "    .dataframe tbody tr th:only-of-type {\n",
       "        vertical-align: middle;\n",
       "    }\n",
       "\n",
       "    .dataframe tbody tr th {\n",
       "        vertical-align: top;\n",
       "    }\n",
       "\n",
       "    .dataframe thead th {\n",
       "        text-align: right;\n",
       "    }\n",
       "</style>\n",
       "<table border=\"1\" class=\"dataframe\">\n",
       "  <thead>\n",
       "    <tr style=\"text-align: right;\">\n",
       "      <th></th>\n",
       "      <th>runtime</th>\n",
       "      <th>tomatometer_rating</th>\n",
       "      <th>tomatometer_count</th>\n",
       "      <th>audience_rating</th>\n",
       "      <th>audience_count</th>\n",
       "      <th>tomatometer_top_critics_count</th>\n",
       "      <th>tomatometer_fresh_critics_count</th>\n",
       "      <th>tomatometer_rotten_critics_count</th>\n",
       "    </tr>\n",
       "  </thead>\n",
       "  <tbody>\n",
       "    <tr>\n",
       "      <th>count</th>\n",
       "      <td>17398.000000</td>\n",
       "      <td>17668.000000</td>\n",
       "      <td>17668.000000</td>\n",
       "      <td>17416.000000</td>\n",
       "      <td>1.741500e+04</td>\n",
       "      <td>17712.000000</td>\n",
       "      <td>17712.000000</td>\n",
       "      <td>17712.000000</td>\n",
       "    </tr>\n",
       "    <tr>\n",
       "      <th>mean</th>\n",
       "      <td>102.214048</td>\n",
       "      <td>60.884763</td>\n",
       "      <td>57.139801</td>\n",
       "      <td>60.554260</td>\n",
       "      <td>1.439401e+05</td>\n",
       "      <td>14.586326</td>\n",
       "      <td>36.374831</td>\n",
       "      <td>20.703139</td>\n",
       "    </tr>\n",
       "    <tr>\n",
       "      <th>std</th>\n",
       "      <td>18.702511</td>\n",
       "      <td>28.443348</td>\n",
       "      <td>68.370047</td>\n",
       "      <td>20.543369</td>\n",
       "      <td>1.763577e+06</td>\n",
       "      <td>15.146349</td>\n",
       "      <td>52.601038</td>\n",
       "      <td>30.248435</td>\n",
       "    </tr>\n",
       "    <tr>\n",
       "      <th>min</th>\n",
       "      <td>5.000000</td>\n",
       "      <td>0.000000</td>\n",
       "      <td>5.000000</td>\n",
       "      <td>0.000000</td>\n",
       "      <td>5.000000e+00</td>\n",
       "      <td>0.000000</td>\n",
       "      <td>0.000000</td>\n",
       "      <td>0.000000</td>\n",
       "    </tr>\n",
       "    <tr>\n",
       "      <th>25%</th>\n",
       "      <td>90.000000</td>\n",
       "      <td>38.000000</td>\n",
       "      <td>12.000000</td>\n",
       "      <td>45.000000</td>\n",
       "      <td>7.075000e+02</td>\n",
       "      <td>3.000000</td>\n",
       "      <td>6.000000</td>\n",
       "      <td>3.000000</td>\n",
       "    </tr>\n",
       "    <tr>\n",
       "      <th>50%</th>\n",
       "      <td>99.000000</td>\n",
       "      <td>67.000000</td>\n",
       "      <td>28.000000</td>\n",
       "      <td>63.000000</td>\n",
       "      <td>4.277000e+03</td>\n",
       "      <td>8.000000</td>\n",
       "      <td>16.000000</td>\n",
       "      <td>8.000000</td>\n",
       "    </tr>\n",
       "    <tr>\n",
       "      <th>75%</th>\n",
       "      <td>111.000000</td>\n",
       "      <td>86.000000</td>\n",
       "      <td>75.000000</td>\n",
       "      <td>78.000000</td>\n",
       "      <td>2.498800e+04</td>\n",
       "      <td>23.000000</td>\n",
       "      <td>44.000000</td>\n",
       "      <td>24.000000</td>\n",
       "    </tr>\n",
       "    <tr>\n",
       "      <th>max</th>\n",
       "      <td>266.000000</td>\n",
       "      <td>100.000000</td>\n",
       "      <td>574.000000</td>\n",
       "      <td>100.000000</td>\n",
       "      <td>3.579764e+07</td>\n",
       "      <td>69.000000</td>\n",
       "      <td>497.000000</td>\n",
       "      <td>303.000000</td>\n",
       "    </tr>\n",
       "  </tbody>\n",
       "</table>\n",
       "</div>"
      ],
      "text/plain": [
       "            runtime  tomatometer_rating  tomatometer_count  audience_rating  \\\n",
       "count  17398.000000        17668.000000       17668.000000     17416.000000   \n",
       "mean     102.214048           60.884763          57.139801        60.554260   \n",
       "std       18.702511           28.443348          68.370047        20.543369   \n",
       "min        5.000000            0.000000           5.000000         0.000000   \n",
       "25%       90.000000           38.000000          12.000000        45.000000   \n",
       "50%       99.000000           67.000000          28.000000        63.000000   \n",
       "75%      111.000000           86.000000          75.000000        78.000000   \n",
       "max      266.000000          100.000000         574.000000       100.000000   \n",
       "\n",
       "       audience_count  tomatometer_top_critics_count  \\\n",
       "count    1.741500e+04                   17712.000000   \n",
       "mean     1.439401e+05                      14.586326   \n",
       "std      1.763577e+06                      15.146349   \n",
       "min      5.000000e+00                       0.000000   \n",
       "25%      7.075000e+02                       3.000000   \n",
       "50%      4.277000e+03                       8.000000   \n",
       "75%      2.498800e+04                      23.000000   \n",
       "max      3.579764e+07                      69.000000   \n",
       "\n",
       "       tomatometer_fresh_critics_count  tomatometer_rotten_critics_count  \n",
       "count                     17712.000000                      17712.000000  \n",
       "mean                         36.374831                         20.703139  \n",
       "std                          52.601038                         30.248435  \n",
       "min                           0.000000                          0.000000  \n",
       "25%                           6.000000                          3.000000  \n",
       "50%                          16.000000                          8.000000  \n",
       "75%                          44.000000                         24.000000  \n",
       "max                         497.000000                        303.000000  "
      ]
     },
     "execution_count": 6,
     "metadata": {},
     "output_type": "execute_result"
    }
   ],
   "source": [
    "df.select_dtypes(exclude='object').describe()"
   ]
  },
  {
   "cell_type": "markdown",
   "metadata": {},
   "source": [
    "- **Heatmap représantant la matrice correlation des valeurs quantitatives**"
   ]
  },
  {
   "cell_type": "code",
   "execution_count": 7,
   "metadata": {},
   "outputs": [
    {
     "data": {
      "image/png": "[encoded data removed]",
      "text/plain": [
       "<Figure size 576x432 with 2 Axes>"
      ]
     },
     "metadata": {
      "needs_background": "light"
     },
     "output_type": "display_data"
    }
   ],
   "source": [
    "corr_df = df.corr(method='pearson')\n",
    "\n",
    "plt.figure(figsize=(8, 6))\n",
    "sns.heatmap(corr_df, annot=True)\n",
    "plt.show()"
   ]
  },
  {
   "cell_type": "markdown",
   "metadata": {},
   "source": [
    "- **Observation des critiques Totamoteter par rapport aux avis utilisateurs**"
   ]
  },
  {
   "cell_type": "code",
   "execution_count": 8,
   "metadata": {},
   "outputs": [
    {
     "data": {
      "image/png": "[encoded data removed]",
      "text/plain": [
       "<Figure size 432x288 with 1 Axes>"
      ]
     },
     "metadata": {
      "needs_background": "light"
     },
     "output_type": "display_data"
    }
   ],
   "source": [
    "plt.plot(df['tomatometer_rating'].head(100), label=\"tomatometer_rating\")\n",
    "plt.plot(df['audience_rating'].head(100), label=\"audience_rating\")\n",
    "plt.legend()\n",
    "\n",
    "plt.show()"
   ]
  },
  {
   "cell_type": "markdown",
   "metadata": {},
   "source": [
    "- **Visualisation des 10 sociétiés de production les plus représentées sur rotten tomatoes**"
   ]
  },
  {
   "cell_type": "code",
   "execution_count": 9,
   "metadata": {},
   "outputs": [
    {
     "data": {
      "text/plain": [
       "([<matplotlib.patches.Wedge at 0x16ddad29d60>,\n",
       "  <matplotlib.patches.Wedge at 0x16ddad3a280>,\n",
       "  <matplotlib.patches.Wedge at 0x16ddad3a760>,\n",
       "  <matplotlib.patches.Wedge at 0x16ddad3ac40>,\n",
       "  <matplotlib.patches.Wedge at 0x16ddad48160>,\n",
       "  <matplotlib.patches.Wedge at 0x16ddad48640>,\n",
       "  <matplotlib.patches.Wedge at 0x16ddad48b20>,\n",
       "  <matplotlib.patches.Wedge at 0x16ddad55040>,\n",
       "  <matplotlib.patches.Wedge at 0x16ddad55520>,\n",
       "  <matplotlib.patches.Wedge at 0x16ddad55a00>],\n",
       " [Text(1.011083557163548, 0.4332551678093486, 'Paramount Pictures'),\n",
       "  Text(0.39012731980292703, 1.0284943725385107, 'Warner Bros. Pictures'),\n",
       "  Text(-0.4521790450335413, 1.002763237874502, 'Universal Pictures'),\n",
       "  Text(-1.0006277446513097, 0.4568852335478062, '20th Century Fox'),\n",
       "  Text(-1.0719532656307533, -0.246812066770577, 'IFC Films'),\n",
       "  Text(-0.7230651128138847, -0.8289613034583968, 'Sony Pictures Home Entertainment'),\n",
       "  Text(-0.1366016339162528, -1.0914852237256398, 'Warner Home Video'),\n",
       "  Text(0.47249950656411277, -0.9933499968775709, 'Netflix'),\n",
       "  Text(0.8896148669906794, -0.6469817527791306, 'MGM'),\n",
       "  Text(1.0769315127917825, -0.22409488337756203, 'Sony Pictures Classics')])"
      ]
     },
     "execution_count": 9,
     "metadata": {},
     "output_type": "execute_result"
    },
    {
     "data": {
      "image/png": "[encoded data removed]",
      "text/plain": [
       "<Figure size 432x288 with 1 Axes>"
      ]
     },
     "metadata": {},
     "output_type": "display_data"
    }
   ],
   "source": [
    "# graph camembert\n",
    "from matplotlib.pyplot import pie\n",
    "pie(df[['production_company']].value_counts().head(10), labels=['Paramount Pictures','Warner Bros. Pictures',\n",
    "                                                               'Universal Pictures','20th Century Fox',\n",
    "                                                               'IFC Films','Sony Pictures Home Entertainment',\n",
    "                                                               'Warner Home Video','Netflix','MGM',\n",
    "                                                               'Sony Pictures Classics'])\n"
   ]
  },
  {
   "cell_type": "code",
   "execution_count": null,
   "metadata": {},
   "outputs": [],
   "source": []
  },
  {
   "cell_type": "markdown",
   "metadata": {},
   "source": [
    "\n",
    "\n",
    "## 3) Réalisation du mcd sur Mocodo"
   ]
  },
  {
   "cell_type": "markdown",
   "metadata": {},
   "source": [
    "![mcd.png](mcd.png)"
   ]
  },
  {
   "cell_type": "code",
   "execution_count": null,
   "metadata": {},
   "outputs": [],
   "source": []
  },
  {
   "cell_type": "markdown",
   "metadata": {},
   "source": [
    "## 4) Pré-traitement du dataset pour l'import dans la bdd sur  phpMyAdmin "
   ]
  },
  {
   "cell_type": "markdown",
   "metadata": {},
   "source": [
    "### 4.1) Méthodologie de traitmement sur Excels"
   ]
  },
  {
   "cell_type": "markdown",
   "metadata": {},
   "source": [
    "Import du dataset sur Ecxel et prétraitement avec l'outil Power Query :\n",
    "- Import du dataset\n",
    "- séparation de certaines données basics\n",
    "- fractionnement des colonnes\n",
    "- supression des données doubles pour créer des bases\n",
    "- untilisation de la fonction recherche enrechistrement des tables"
   ]
  },
  {
   "cell_type": "markdown",
   "metadata": {},
   "source": [
    "Dans cet exemple nous avons gardé que les 3 premiers acteurs et auteurs des listes du dataset de base"
   ]
  },
  {
   "cell_type": "markdown",
   "metadata": {},
   "source": [
    "### 4.2) Méthodologie de pré-traitement"
   ]
  },
  {
   "cell_type": "markdown",
   "metadata": {},
   "source": [
    "1) Import du fichier *.csv"
   ]
  },
  {
   "cell_type": "markdown",
   "metadata": {},
   "source": [
    "![donnees1.jpg](donnees1.jpg)"
   ]
  },
  {
   "cell_type": "markdown",
   "metadata": {},
   "source": [
    "2) Séparation des données, et traitement"
   ]
  },
  {
   "cell_type": "markdown",
   "metadata": {},
   "source": [
    "![donnees2.jpg](donnees2.jpg)"
   ]
  },
  {
   "cell_type": "markdown",
   "metadata": {},
   "source": [
    "3) Création des tables"
   ]
  },
  {
   "cell_type": "markdown",
   "metadata": {},
   "source": [
    "![donnees3.jpg](donnees3.jpg)"
   ]
  },
  {
   "cell_type": "markdown",
   "metadata": {},
   "source": [
    "### 4.3) Import des tables primaires sur phpMyAdmin"
   ]
  },
  {
   "cell_type": "code",
   "execution_count": 10,
   "metadata": {},
   "outputs": [],
   "source": [
    "import mysql.connector as mysqlpyth\n",
    "\n",
    "# descrition des variable en valeur ici None\n",
    "bdd = None \n",
    "cursor = None\n",
    "\n",
    "# Connexion de la bdd\n",
    "def connexion(): \n",
    "    global bdd \n",
    "    global cursor\n",
    "    bdd = mysqlpyth.connect(user='root', password='root', host='localhost', port=\"8081\", database='rotten_tomatoes')\n",
    "    cursor = bdd.cursor()\n",
    "    \n",
    "# Déconnexion de la bdd\n",
    "def deconnexion(): \n",
    "    global bdd \n",
    "    global cursor\n",
    "    \n",
    "    cursor.close() \n",
    "    bdd.close()    \n",
    "    "
   ]
  },
  {
   "cell_type": "markdown",
   "metadata": {},
   "source": [
    "- **Insertion table 1 calendrier** "
   ]
  },
  {
   "cell_type": "code",
   "execution_count": 11,
   "metadata": {
    "scrolled": false
   },
   "outputs": [
    {
     "data": {
      "text/html": [
       "<div>\n",
       "<style scoped>\n",
       "    .dataframe tbody tr th:only-of-type {\n",
       "        vertical-align: middle;\n",
       "    }\n",
       "\n",
       "    .dataframe tbody tr th {\n",
       "        vertical-align: top;\n",
       "    }\n",
       "\n",
       "    .dataframe thead th {\n",
       "        text-align: right;\n",
       "    }\n",
       "</style>\n",
       "<table border=\"1\" class=\"dataframe\">\n",
       "  <thead>\n",
       "    <tr style=\"text-align: right;\">\n",
       "      <th></th>\n",
       "      <th>id_date</th>\n",
       "      <th>date</th>\n",
       "    </tr>\n",
       "  </thead>\n",
       "  <tbody>\n",
       "    <tr>\n",
       "      <th>0</th>\n",
       "      <td>1</td>\n",
       "      <td>1914-06-01</td>\n",
       "    </tr>\n",
       "    <tr>\n",
       "      <th>1</th>\n",
       "      <td>2</td>\n",
       "      <td>1915-01-01</td>\n",
       "    </tr>\n",
       "  </tbody>\n",
       "</table>\n",
       "</div>"
      ],
      "text/plain": [
       "   id_date        date\n",
       "0        1  1914-06-01\n",
       "1        2  1915-01-01"
      ]
     },
     "execution_count": 11,
     "metadata": {},
     "output_type": "execute_result"
    }
   ],
   "source": [
    "path='./tables/calendrier.xlsx'\n",
    "calendrier = pd.read_excel(path)\n",
    "calendrier.head(2)"
   ]
  },
  {
   "cell_type": "code",
   "execution_count": 13,
   "metadata": {},
   "outputs": [],
   "source": [
    "# Ajout dans la bdd\n",
    "global cursor \n",
    "global bdd \n",
    "\n",
    "connexion() \n",
    "for index, row in calendrier.iterrows():\n",
    "    query = 'INSERT INTO calendrier(id_date,date) VALUES(%s,%s);'\n",
    "    param = (row.id_date, row.date) \n",
    "    cursor.execute(query, param) \n",
    "    bdd.commit()\n",
    "deconnexion() \n",
    "    "
   ]
  },
  {
   "cell_type": "markdown",
   "metadata": {},
   "source": [
    "- **Insertion table 2 catégorie du public du film** "
   ]
  },
  {
   "cell_type": "code",
   "execution_count": 14,
   "metadata": {
    "scrolled": false
   },
   "outputs": [
    {
     "data": {
      "text/html": [
       "<div>\n",
       "<style scoped>\n",
       "    .dataframe tbody tr th:only-of-type {\n",
       "        vertical-align: middle;\n",
       "    }\n",
       "\n",
       "    .dataframe tbody tr th {\n",
       "        vertical-align: top;\n",
       "    }\n",
       "\n",
       "    .dataframe thead th {\n",
       "        text-align: right;\n",
       "    }\n",
       "</style>\n",
       "<table border=\"1\" class=\"dataframe\">\n",
       "  <thead>\n",
       "    <tr style=\"text-align: right;\">\n",
       "      <th></th>\n",
       "      <th>id_categorie</th>\n",
       "      <th>categorie</th>\n",
       "    </tr>\n",
       "  </thead>\n",
       "  <tbody>\n",
       "    <tr>\n",
       "      <th>0</th>\n",
       "      <td>1</td>\n",
       "      <td>G</td>\n",
       "    </tr>\n",
       "    <tr>\n",
       "      <th>1</th>\n",
       "      <td>2</td>\n",
       "      <td>NC17</td>\n",
       "    </tr>\n",
       "  </tbody>\n",
       "</table>\n",
       "</div>"
      ],
      "text/plain": [
       "   id_categorie categorie\n",
       "0             1         G\n",
       "1             2    NC17  "
      ]
     },
     "execution_count": 14,
     "metadata": {},
     "output_type": "execute_result"
    }
   ],
   "source": [
    "path='./tables/categorie_public.xlsx'\n",
    "categorie_public = pd.read_excel(path)\n",
    "categorie_public.head(2)"
   ]
  },
  {
   "cell_type": "code",
   "execution_count": 124,
   "metadata": {},
   "outputs": [],
   "source": [
    "# Ajout dans la bdd\n",
    "global cursor \n",
    "global bdd \n",
    "\n",
    "connexion() \n",
    "for index, row in categorie_public.iterrows():\n",
    "    query = 'INSERT INTO categorie_public(id_categorie,categorie) VALUES(%s,%s);'\n",
    "    param = (row.id_categorie, row.categorie) \n",
    "    cursor.execute(query, param) \n",
    "    bdd.commit()\n",
    "deconnexion() \n",
    "    "
   ]
  },
  {
   "cell_type": "markdown",
   "metadata": {},
   "source": [
    "- **Insertion table 3 note de l'audience** "
   ]
  },
  {
   "cell_type": "code",
   "execution_count": 15,
   "metadata": {
    "scrolled": false
   },
   "outputs": [
    {
     "data": {
      "text/html": [
       "<div>\n",
       "<style scoped>\n",
       "    .dataframe tbody tr th:only-of-type {\n",
       "        vertical-align: middle;\n",
       "    }\n",
       "\n",
       "    .dataframe tbody tr th {\n",
       "        vertical-align: top;\n",
       "    }\n",
       "\n",
       "    .dataframe thead th {\n",
       "        text-align: right;\n",
       "    }\n",
       "</style>\n",
       "<table border=\"1\" class=\"dataframe\">\n",
       "  <thead>\n",
       "    <tr style=\"text-align: right;\">\n",
       "      <th></th>\n",
       "      <th>id_audience</th>\n",
       "      <th>label_audience</th>\n",
       "    </tr>\n",
       "  </thead>\n",
       "  <tbody>\n",
       "    <tr>\n",
       "      <th>0</th>\n",
       "      <td>1</td>\n",
       "      <td>Spilled</td>\n",
       "    </tr>\n",
       "    <tr>\n",
       "      <th>1</th>\n",
       "      <td>2</td>\n",
       "      <td>Upright</td>\n",
       "    </tr>\n",
       "  </tbody>\n",
       "</table>\n",
       "</div>"
      ],
      "text/plain": [
       "   id_audience label_audience\n",
       "0            1        Spilled\n",
       "1            2        Upright"
      ]
     },
     "execution_count": 15,
     "metadata": {},
     "output_type": "execute_result"
    }
   ],
   "source": [
    "path='./tables/note_audience.xlsx'\n",
    "note_audience = pd.read_excel(path)\n",
    "note_audience.head(2)"
   ]
  },
  {
   "cell_type": "code",
   "execution_count": 125,
   "metadata": {},
   "outputs": [],
   "source": [
    "# Ajout dans la bdd\n",
    "global cursor \n",
    "global bdd \n",
    "\n",
    "connexion() \n",
    "for index, row in note_audience.iterrows():\n",
    "    query = 'INSERT INTO note_audience(id_audience,label_audience) VALUES(%s,%s);'\n",
    "    param = (row.id_audience, row.label_audience) \n",
    "    cursor.execute(query, param) \n",
    "    bdd.commit()\n",
    "deconnexion() \n",
    "    "
   ]
  },
  {
   "cell_type": "markdown",
   "metadata": {},
   "source": [
    "- **Insertion table 4 identite personne**"
   ]
  },
  {
   "cell_type": "code",
   "execution_count": 16,
   "metadata": {
    "scrolled": false
   },
   "outputs": [
    {
     "data": {
      "text/html": [
       "<div>\n",
       "<style scoped>\n",
       "    .dataframe tbody tr th:only-of-type {\n",
       "        vertical-align: middle;\n",
       "    }\n",
       "\n",
       "    .dataframe tbody tr th {\n",
       "        vertical-align: top;\n",
       "    }\n",
       "\n",
       "    .dataframe thead th {\n",
       "        text-align: right;\n",
       "    }\n",
       "</style>\n",
       "<table border=\"1\" class=\"dataframe\">\n",
       "  <thead>\n",
       "    <tr style=\"text-align: right;\">\n",
       "      <th></th>\n",
       "      <th>id_personne</th>\n",
       "      <th>identite_personne</th>\n",
       "    </tr>\n",
       "  </thead>\n",
       "  <tbody>\n",
       "    <tr>\n",
       "      <th>0</th>\n",
       "      <td>1</td>\n",
       "      <td>??ke Grönberg</td>\n",
       "    </tr>\n",
       "    <tr>\n",
       "      <th>1</th>\n",
       "      <td>2</td>\n",
       "      <td>??lafur Egill Egilsson</td>\n",
       "    </tr>\n",
       "  </tbody>\n",
       "</table>\n",
       "</div>"
      ],
      "text/plain": [
       "   id_personne        identite_personne\n",
       "0            1            ??ke Grönberg\n",
       "1            2   ??lafur Egill Egilsson"
      ]
     },
     "execution_count": 16,
     "metadata": {},
     "output_type": "execute_result"
    }
   ],
   "source": [
    "path='./tables/personnes.xlsx'\n",
    "personnes = pd.read_excel(path)\n",
    "personnes.head(2)"
   ]
  },
  {
   "cell_type": "code",
   "execution_count": 126,
   "metadata": {},
   "outputs": [],
   "source": [
    "# Ajout dans la bdd\n",
    "global cursor \n",
    "global bdd \n",
    "\n",
    "connexion() \n",
    "for index, row in personnes.iterrows():\n",
    "    query = 'INSERT INTO personnes(id_personne,identite_personne) VALUES(%s,%s);'\n",
    "    param = (row.id_personne, row.identite_personne) \n",
    "    cursor.execute(query, param) \n",
    "    bdd.commit()\n",
    "deconnexion() \n",
    "    "
   ]
  },
  {
   "cell_type": "markdown",
   "metadata": {},
   "source": [
    "- **Insertion table 5 societe_production** "
   ]
  },
  {
   "cell_type": "code",
   "execution_count": 17,
   "metadata": {
    "scrolled": true
   },
   "outputs": [
    {
     "data": {
      "text/html": [
       "<div>\n",
       "<style scoped>\n",
       "    .dataframe tbody tr th:only-of-type {\n",
       "        vertical-align: middle;\n",
       "    }\n",
       "\n",
       "    .dataframe tbody tr th {\n",
       "        vertical-align: top;\n",
       "    }\n",
       "\n",
       "    .dataframe thead th {\n",
       "        text-align: right;\n",
       "    }\n",
       "</style>\n",
       "<table border=\"1\" class=\"dataframe\">\n",
       "  <thead>\n",
       "    <tr style=\"text-align: right;\">\n",
       "      <th></th>\n",
       "      <th>id_societe</th>\n",
       "      <th>nom_societe_production</th>\n",
       "    </tr>\n",
       "  </thead>\n",
       "  <tbody>\n",
       "    <tr>\n",
       "      <th>0</th>\n",
       "      <td>1</td>\n",
       "      <td>@radical.media</td>\n",
       "    </tr>\n",
       "    <tr>\n",
       "      <th>1</th>\n",
       "      <td>2</td>\n",
       "      <td>10 West Studios</td>\n",
       "    </tr>\n",
       "  </tbody>\n",
       "</table>\n",
       "</div>"
      ],
      "text/plain": [
       "   id_societe nom_societe_production\n",
       "0           1         @radical.media\n",
       "1           2        10 West Studios"
      ]
     },
     "execution_count": 17,
     "metadata": {},
     "output_type": "execute_result"
    }
   ],
   "source": [
    "path='./tables/societe_production.xlsx'\n",
    "societe_production = pd.read_excel(path)\n",
    "societe_production.head(2)"
   ]
  },
  {
   "cell_type": "code",
   "execution_count": 131,
   "metadata": {},
   "outputs": [],
   "source": [
    "# Ajout dans la bdd\n",
    "global cursor \n",
    "global bdd \n",
    "\n",
    "connexion() \n",
    "for index, row in societe_production.iterrows():\n",
    "    query = 'INSERT INTO societe_production(id_societe,nom_societe_production) VALUES(%s,%s);'\n",
    "    param = (row.id_societe, row.nom_societe_production) \n",
    "    cursor.execute(query, param) \n",
    "    bdd.commit()\n",
    "deconnexion() \n",
    "    "
   ]
  },
  {
   "cell_type": "markdown",
   "metadata": {},
   "source": [
    "- **Insertion table 6 tomatometer_status** "
   ]
  },
  {
   "cell_type": "code",
   "execution_count": 18,
   "metadata": {
    "scrolled": false
   },
   "outputs": [
    {
     "data": {
      "text/html": [
       "<div>\n",
       "<style scoped>\n",
       "    .dataframe tbody tr th:only-of-type {\n",
       "        vertical-align: middle;\n",
       "    }\n",
       "\n",
       "    .dataframe tbody tr th {\n",
       "        vertical-align: top;\n",
       "    }\n",
       "\n",
       "    .dataframe thead th {\n",
       "        text-align: right;\n",
       "    }\n",
       "</style>\n",
       "<table border=\"1\" class=\"dataframe\">\n",
       "  <thead>\n",
       "    <tr style=\"text-align: right;\">\n",
       "      <th></th>\n",
       "      <th>id_tomatometer_status</th>\n",
       "      <th>tomatometer</th>\n",
       "    </tr>\n",
       "  </thead>\n",
       "  <tbody>\n",
       "    <tr>\n",
       "      <th>0</th>\n",
       "      <td>1</td>\n",
       "      <td>Certified-Fresh</td>\n",
       "    </tr>\n",
       "    <tr>\n",
       "      <th>1</th>\n",
       "      <td>2</td>\n",
       "      <td>Fresh</td>\n",
       "    </tr>\n",
       "  </tbody>\n",
       "</table>\n",
       "</div>"
      ],
      "text/plain": [
       "   id_tomatometer_status      tomatometer\n",
       "0                      1  Certified-Fresh\n",
       "1                      2            Fresh"
      ]
     },
     "execution_count": 18,
     "metadata": {},
     "output_type": "execute_result"
    }
   ],
   "source": [
    "path='./tables/tomatometer_status.xlsx'\n",
    "tomatometer_status = pd.read_excel(path)\n",
    "tomatometer_status.head(2)"
   ]
  },
  {
   "cell_type": "code",
   "execution_count": 137,
   "metadata": {},
   "outputs": [],
   "source": [
    "# Ajout dans la bdd\n",
    "global cursor \n",
    "global bdd \n",
    "\n",
    "connexion() \n",
    "for index, row in tomatometer_status.iterrows():\n",
    "    query = 'INSERT INTO tomatometer_status(id_tomatometer_status,tomatometer) VALUES(%s,%s);'\n",
    "    param = (row.id_tomatometer_status, row.tomatometer) \n",
    "    cursor.execute(query, param) \n",
    "    bdd.commit()\n",
    "deconnexion() \n",
    "    "
   ]
  },
  {
   "cell_type": "markdown",
   "metadata": {},
   "source": [
    "- **Insertion table 7 type_genre** "
   ]
  },
  {
   "cell_type": "code",
   "execution_count": 19,
   "metadata": {
    "scrolled": false
   },
   "outputs": [
    {
     "data": {
      "text/html": [
       "<div>\n",
       "<style scoped>\n",
       "    .dataframe tbody tr th:only-of-type {\n",
       "        vertical-align: middle;\n",
       "    }\n",
       "\n",
       "    .dataframe tbody tr th {\n",
       "        vertical-align: top;\n",
       "    }\n",
       "\n",
       "    .dataframe thead th {\n",
       "        text-align: right;\n",
       "    }\n",
       "</style>\n",
       "<table border=\"1\" class=\"dataframe\">\n",
       "  <thead>\n",
       "    <tr style=\"text-align: right;\">\n",
       "      <th></th>\n",
       "      <th>id_genre</th>\n",
       "      <th>genre</th>\n",
       "    </tr>\n",
       "  </thead>\n",
       "  <tbody>\n",
       "    <tr>\n",
       "      <th>0</th>\n",
       "      <td>1</td>\n",
       "      <td>Animation</td>\n",
       "    </tr>\n",
       "    <tr>\n",
       "      <th>1</th>\n",
       "      <td>2</td>\n",
       "      <td>Anime &amp; Manga</td>\n",
       "    </tr>\n",
       "  </tbody>\n",
       "</table>\n",
       "</div>"
      ],
      "text/plain": [
       "   id_genre           genre\n",
       "0         1       Animation\n",
       "1         2   Anime & Manga"
      ]
     },
     "execution_count": 19,
     "metadata": {},
     "output_type": "execute_result"
    }
   ],
   "source": [
    "path='./tables/type_genre.xlsx'\n",
    "type_genre = pd.read_excel(path)\n",
    "type_genre.head(2)"
   ]
  },
  {
   "cell_type": "code",
   "execution_count": 140,
   "metadata": {},
   "outputs": [],
   "source": [
    "# Ajout dans la bdd\n",
    "global cursor \n",
    "global bdd \n",
    "\n",
    "connexion() \n",
    "for index, row in type_genre.iterrows():\n",
    "    query = 'INSERT INTO type_genre(id_genre,genre) VALUES(%s,%s);'\n",
    "    param = (row.id_genre, row.genre) \n",
    "    cursor.execute(query, param) \n",
    "    bdd.commit()\n",
    "deconnexion() \n",
    "    "
   ]
  },
  {
   "cell_type": "markdown",
   "metadata": {},
   "source": [
    "- **Insertion table 8 films** "
   ]
  },
  {
   "cell_type": "code",
   "execution_count": 20,
   "metadata": {
    "scrolled": false
   },
   "outputs": [
    {
     "data": {
      "text/html": [
       "<div>\n",
       "<style scoped>\n",
       "    .dataframe tbody tr th:only-of-type {\n",
       "        vertical-align: middle;\n",
       "    }\n",
       "\n",
       "    .dataframe tbody tr th {\n",
       "        vertical-align: top;\n",
       "    }\n",
       "\n",
       "    .dataframe thead th {\n",
       "        text-align: right;\n",
       "    }\n",
       "</style>\n",
       "<table border=\"1\" class=\"dataframe\">\n",
       "  <thead>\n",
       "    <tr style=\"text-align: right;\">\n",
       "      <th></th>\n",
       "      <th>id_film</th>\n",
       "      <th>titre</th>\n",
       "      <th>duree</th>\n",
       "      <th>tomatometer_count</th>\n",
       "      <th>audience_rating</th>\n",
       "      <th>audience_count</th>\n",
       "      <th>id_tomatometer_status</th>\n",
       "      <th>id_date_sortie</th>\n",
       "      <th>id_categorie</th>\n",
       "      <th>id_date_stream</th>\n",
       "      <th>id_audience_status</th>\n",
       "      <th>id_societe_production</th>\n",
       "      <th>tomatometer_rating</th>\n",
       "    </tr>\n",
       "  </thead>\n",
       "  <tbody>\n",
       "    <tr>\n",
       "      <th>0</th>\n",
       "      <td>1</td>\n",
       "      <td>Percy Jackson &amp; the Olympians: The Lightning T...</td>\n",
       "      <td>119.0</td>\n",
       "      <td>149.0</td>\n",
       "      <td>53.0</td>\n",
       "      <td>254421.0</td>\n",
       "      <td>3.0</td>\n",
       "      <td>4695.0</td>\n",
       "      <td>4</td>\n",
       "      <td>5355.0</td>\n",
       "      <td>1.0</td>\n",
       "      <td>10.0</td>\n",
       "      <td>49.0</td>\n",
       "    </tr>\n",
       "    <tr>\n",
       "      <th>1</th>\n",
       "      <td>2</td>\n",
       "      <td>Please Give</td>\n",
       "      <td>90.0</td>\n",
       "      <td>142.0</td>\n",
       "      <td>64.0</td>\n",
       "      <td>11574.0</td>\n",
       "      <td>1.0</td>\n",
       "      <td>4716.0</td>\n",
       "      <td>6</td>\n",
       "      <td>4985.0</td>\n",
       "      <td>2.0</td>\n",
       "      <td>2455.0</td>\n",
       "      <td>87.0</td>\n",
       "    </tr>\n",
       "  </tbody>\n",
       "</table>\n",
       "</div>"
      ],
      "text/plain": [
       "   id_film                                              titre  duree  \\\n",
       "0        1  Percy Jackson & the Olympians: The Lightning T...  119.0   \n",
       "1        2                                        Please Give   90.0   \n",
       "\n",
       "   tomatometer_count  audience_rating  audience_count  id_tomatometer_status  \\\n",
       "0              149.0             53.0        254421.0                    3.0   \n",
       "1              142.0             64.0         11574.0                    1.0   \n",
       "\n",
       "   id_date_sortie  id_categorie  id_date_stream  id_audience_status  \\\n",
       "0          4695.0             4          5355.0                 1.0   \n",
       "1          4716.0             6          4985.0                 2.0   \n",
       "\n",
       "   id_societe_production  tomatometer_rating  \n",
       "0                   10.0                49.0  \n",
       "1                 2455.0                87.0  "
      ]
     },
     "execution_count": 20,
     "metadata": {},
     "output_type": "execute_result"
    }
   ],
   "source": [
    "# table principale film\n",
    "path='./tables/films.xlsx'\n",
    "films = pd.read_excel(path)\n",
    "films.head(2)"
   ]
  },
  {
   "cell_type": "code",
   "execution_count": 21,
   "metadata": {
    "scrolled": true
   },
   "outputs": [
    {
     "name": "stdout",
     "output_type": "stream",
     "text": [
      "<class 'pandas.core.frame.DataFrame'>\n",
      "RangeIndex: 17712 entries, 0 to 17711\n",
      "Data columns (total 13 columns):\n",
      " #   Column                 Non-Null Count  Dtype  \n",
      "---  ------                 --------------  -----  \n",
      " 0   id_film                17712 non-null  int64  \n",
      " 1   titre                  17712 non-null  object \n",
      " 2   duree                  17398 non-null  float64\n",
      " 3   tomatometer_count      17668 non-null  float64\n",
      " 4   audience_rating        17416 non-null  float64\n",
      " 5   audience_count         17415 non-null  float64\n",
      " 6   id_tomatometer_status  17668 non-null  float64\n",
      " 7   id_date_sortie         16546 non-null  float64\n",
      " 8   id_categorie           17712 non-null  int64  \n",
      " 9   id_date_stream         17328 non-null  float64\n",
      " 10  id_audience_status     17264 non-null  float64\n",
      " 11  id_societe_production  17213 non-null  float64\n",
      " 12  tomatometer_rating     17668 non-null  float64\n",
      "dtypes: float64(10), int64(2), object(1)\n",
      "memory usage: 1.8+ MB\n"
     ]
    }
   ],
   "source": [
    "films.info()"
   ]
  },
  {
   "cell_type": "code",
   "execution_count": 22,
   "metadata": {},
   "outputs": [],
   "source": [
    "films.dropna(inplace=True)"
   ]
  },
  {
   "cell_type": "code",
   "execution_count": 23,
   "metadata": {
    "scrolled": false
   },
   "outputs": [
    {
     "name": "stdout",
     "output_type": "stream",
     "text": [
      "<class 'pandas.core.frame.DataFrame'>\n",
      "Int64Index: 15705 entries, 0 to 17711\n",
      "Data columns (total 13 columns):\n",
      " #   Column                 Non-Null Count  Dtype  \n",
      "---  ------                 --------------  -----  \n",
      " 0   id_film                15705 non-null  int64  \n",
      " 1   titre                  15705 non-null  object \n",
      " 2   duree                  15705 non-null  float64\n",
      " 3   tomatometer_count      15705 non-null  float64\n",
      " 4   audience_rating        15705 non-null  float64\n",
      " 5   audience_count         15705 non-null  float64\n",
      " 6   id_tomatometer_status  15705 non-null  float64\n",
      " 7   id_date_sortie         15705 non-null  float64\n",
      " 8   id_categorie           15705 non-null  int64  \n",
      " 9   id_date_stream         15705 non-null  float64\n",
      " 10  id_audience_status     15705 non-null  float64\n",
      " 11  id_societe_production  15705 non-null  float64\n",
      " 12  tomatometer_rating     15705 non-null  float64\n",
      "dtypes: float64(10), int64(2), object(1)\n",
      "memory usage: 1.7+ MB\n"
     ]
    }
   ],
   "source": [
    "films.info()"
   ]
  },
  {
   "cell_type": "code",
   "execution_count": 154,
   "metadata": {},
   "outputs": [],
   "source": [
    "# Ajout dans la bdd\n",
    "global cursor \n",
    "global bdd \n",
    "\n",
    "connexion() \n",
    "for index, row in films.iterrows():\n",
    "    query = 'INSERT INTO films(id_film, titre, duree, tomatometer_count, audience_rating, audience_count, id_tomatometer_status, id_date_sortie, id_categorie, id_date_stream, id_audience_status, id_societe_production, tomatometer_rating) VALUES(%s,%s,%s,%s,%s,%s,%s,%s,%s,%s,%s,%s,%s);'\n",
    "    param = (row.id_film, row.titre, row.duree, row.tomatometer_count, row.audience_rating, \n",
    "             row.audience_count, row.id_tomatometer_status, row.id_date_sortie, \n",
    "             row.id_categorie, row.id_date_stream, row.id_audience_status, \n",
    "             row.id_societe_production, row.tomatometer_rating) \n",
    "    cursor.execute(query, param) \n",
    "    bdd.commit()\n",
    "deconnexion() \n",
    "    "
   ]
  },
  {
   "cell_type": "code",
   "execution_count": null,
   "metadata": {},
   "outputs": [],
   "source": []
  },
  {
   "cell_type": "markdown",
   "metadata": {},
   "source": [
    "- **Insertion table intermediare 9 acteurs** "
   ]
  },
  {
   "cell_type": "code",
   "execution_count": 24,
   "metadata": {
    "scrolled": true
   },
   "outputs": [
    {
     "data": {
      "text/html": [
       "<div>\n",
       "<style scoped>\n",
       "    .dataframe tbody tr th:only-of-type {\n",
       "        vertical-align: middle;\n",
       "    }\n",
       "\n",
       "    .dataframe tbody tr th {\n",
       "        vertical-align: top;\n",
       "    }\n",
       "\n",
       "    .dataframe thead th {\n",
       "        text-align: right;\n",
       "    }\n",
       "</style>\n",
       "<table border=\"1\" class=\"dataframe\">\n",
       "  <thead>\n",
       "    <tr style=\"text-align: right;\">\n",
       "      <th></th>\n",
       "      <th>id_film</th>\n",
       "      <th>id_personne</th>\n",
       "    </tr>\n",
       "  </thead>\n",
       "  <tbody>\n",
       "    <tr>\n",
       "      <th>0</th>\n",
       "      <td>1.0</td>\n",
       "      <td>37026.0</td>\n",
       "    </tr>\n",
       "    <tr>\n",
       "      <th>1</th>\n",
       "      <td>1.0</td>\n",
       "      <td>2846.0</td>\n",
       "    </tr>\n",
       "  </tbody>\n",
       "</table>\n",
       "</div>"
      ],
      "text/plain": [
       "   id_film  id_personne\n",
       "0      1.0      37026.0\n",
       "1      1.0       2846.0"
      ]
     },
     "execution_count": 24,
     "metadata": {},
     "output_type": "execute_result"
    }
   ],
   "source": [
    "path='./tables/acteurs.xlsx'\n",
    "acteurs = pd.read_excel(path).astype('float64')\n",
    "acteurs.head(2)"
   ]
  },
  {
   "cell_type": "code",
   "execution_count": 25,
   "metadata": {
    "scrolled": true
   },
   "outputs": [
    {
     "name": "stdout",
     "output_type": "stream",
     "text": [
      "<class 'pandas.core.frame.DataFrame'>\n",
      "RangeIndex: 45961 entries, 0 to 45960\n",
      "Data columns (total 2 columns):\n",
      " #   Column       Non-Null Count  Dtype  \n",
      "---  ------       --------------  -----  \n",
      " 0   id_film      45961 non-null  float64\n",
      " 1   id_personne  45961 non-null  float64\n",
      "dtypes: float64(2)\n",
      "memory usage: 718.3 KB\n"
     ]
    }
   ],
   "source": [
    "acteurs.info()"
   ]
  },
  {
   "cell_type": "code",
   "execution_count": 186,
   "metadata": {
    "scrolled": true
   },
   "outputs": [],
   "source": [
    "# Ajout dans la bdd\n",
    "global cursor \n",
    "global bdd \n",
    "\n",
    "connexion() \n",
    "for index, row in acteurs.iterrows():\n",
    "    query = 'INSERT INTO acteurs(id_film,id_personne) VALUES(%s,%s);'\n",
    "    param = (row.id_film, row.id_personne) \n",
    "    cursor.execute(query, param) \n",
    "    bdd.commit()\n",
    "deconnexion() \n",
    "    "
   ]
  },
  {
   "cell_type": "markdown",
   "metadata": {},
   "source": [
    "- **Insertion table intermediare 10 auteurs** "
   ]
  },
  {
   "cell_type": "code",
   "execution_count": 26,
   "metadata": {
    "scrolled": false
   },
   "outputs": [
    {
     "data": {
      "text/html": [
       "<div>\n",
       "<style scoped>\n",
       "    .dataframe tbody tr th:only-of-type {\n",
       "        vertical-align: middle;\n",
       "    }\n",
       "\n",
       "    .dataframe tbody tr th {\n",
       "        vertical-align: top;\n",
       "    }\n",
       "\n",
       "    .dataframe thead th {\n",
       "        text-align: right;\n",
       "    }\n",
       "</style>\n",
       "<table border=\"1\" class=\"dataframe\">\n",
       "  <thead>\n",
       "    <tr style=\"text-align: right;\">\n",
       "      <th></th>\n",
       "      <th>id_film</th>\n",
       "      <th>id_personne</th>\n",
       "    </tr>\n",
       "  </thead>\n",
       "  <tbody>\n",
       "    <tr>\n",
       "      <th>0</th>\n",
       "      <td>1.0</td>\n",
       "      <td>28880.0</td>\n",
       "    </tr>\n",
       "    <tr>\n",
       "      <th>1</th>\n",
       "      <td>1.0</td>\n",
       "      <td>4005.0</td>\n",
       "    </tr>\n",
       "  </tbody>\n",
       "</table>\n",
       "</div>"
      ],
      "text/plain": [
       "   id_film  id_personne\n",
       "0      1.0      28880.0\n",
       "1      1.0       4005.0"
      ]
     },
     "execution_count": 26,
     "metadata": {},
     "output_type": "execute_result"
    }
   ],
   "source": [
    "path='./tables/auteurs.xlsx'\n",
    "auteurs = pd.read_excel(path).astype('float64')\n",
    "auteurs.head(2)"
   ]
  },
  {
   "cell_type": "code",
   "execution_count": 206,
   "metadata": {},
   "outputs": [],
   "source": [
    "# Ajout dans la bdd\n",
    "global cursor \n",
    "global bdd \n",
    "\n",
    "connexion() \n",
    "for index, row in auteurs.iterrows():\n",
    "    query = 'INSERT INTO auteurs(id_film,id_personne) VALUES(%s,%s);'\n",
    "    param = (row.id_film, row.id_personne) \n",
    "    cursor.execute(query, param) \n",
    "    bdd.commit()\n",
    "deconnexion() \n",
    "    "
   ]
  },
  {
   "cell_type": "markdown",
   "metadata": {},
   "source": [
    "- **Insertion table intermediare 11 realisateurs** "
   ]
  },
  {
   "cell_type": "code",
   "execution_count": 27,
   "metadata": {
    "scrolled": false
   },
   "outputs": [
    {
     "data": {
      "text/html": [
       "<div>\n",
       "<style scoped>\n",
       "    .dataframe tbody tr th:only-of-type {\n",
       "        vertical-align: middle;\n",
       "    }\n",
       "\n",
       "    .dataframe tbody tr th {\n",
       "        vertical-align: top;\n",
       "    }\n",
       "\n",
       "    .dataframe thead th {\n",
       "        text-align: right;\n",
       "    }\n",
       "</style>\n",
       "<table border=\"1\" class=\"dataframe\">\n",
       "  <thead>\n",
       "    <tr style=\"text-align: right;\">\n",
       "      <th></th>\n",
       "      <th>id_film</th>\n",
       "      <th>id_personne</th>\n",
       "    </tr>\n",
       "  </thead>\n",
       "  <tbody>\n",
       "    <tr>\n",
       "      <th>0</th>\n",
       "      <td>1.0</td>\n",
       "      <td>28234.0</td>\n",
       "    </tr>\n",
       "    <tr>\n",
       "      <th>1</th>\n",
       "      <td>2.0</td>\n",
       "      <td>39524.0</td>\n",
       "    </tr>\n",
       "  </tbody>\n",
       "</table>\n",
       "</div>"
      ],
      "text/plain": [
       "   id_film  id_personne\n",
       "0      1.0      28234.0\n",
       "1      2.0      39524.0"
      ]
     },
     "execution_count": 27,
     "metadata": {},
     "output_type": "execute_result"
    }
   ],
   "source": [
    "path='./tables/realisateurs.xlsx'\n",
    "realisateurs = pd.read_excel(path).astype('float64')\n",
    "realisateurs.head(2)"
   ]
  },
  {
   "cell_type": "code",
   "execution_count": 207,
   "metadata": {},
   "outputs": [],
   "source": [
    "# Ajout dans la bdd\n",
    "global cursor \n",
    "global bdd \n",
    "\n",
    "connexion() \n",
    "for index, row in realisateurs.iterrows():\n",
    "    query = 'INSERT INTO realisateurs(id_film,id_personne) VALUES(%s,%s);'\n",
    "    param = (row.id_film, row.id_personne)  \n",
    "    cursor.execute(query, param) \n",
    "    bdd.commit()\n",
    "deconnexion() \n",
    "    "
   ]
  },
  {
   "cell_type": "markdown",
   "metadata": {},
   "source": [
    "- **Insertion table intermediare 12 genre du film** "
   ]
  },
  {
   "cell_type": "code",
   "execution_count": 28,
   "metadata": {
    "scrolled": false
   },
   "outputs": [
    {
     "data": {
      "text/html": [
       "<div>\n",
       "<style scoped>\n",
       "    .dataframe tbody tr th:only-of-type {\n",
       "        vertical-align: middle;\n",
       "    }\n",
       "\n",
       "    .dataframe tbody tr th {\n",
       "        vertical-align: top;\n",
       "    }\n",
       "\n",
       "    .dataframe thead th {\n",
       "        text-align: right;\n",
       "    }\n",
       "</style>\n",
       "<table border=\"1\" class=\"dataframe\">\n",
       "  <thead>\n",
       "    <tr style=\"text-align: right;\">\n",
       "      <th></th>\n",
       "      <th>id_film</th>\n",
       "      <th>id_genre</th>\n",
       "    </tr>\n",
       "  </thead>\n",
       "  <tbody>\n",
       "    <tr>\n",
       "      <th>0</th>\n",
       "      <td>1.0</td>\n",
       "      <td>21.0</td>\n",
       "    </tr>\n",
       "    <tr>\n",
       "      <th>1</th>\n",
       "      <td>1.0</td>\n",
       "      <td>5.0</td>\n",
       "    </tr>\n",
       "  </tbody>\n",
       "</table>\n",
       "</div>"
      ],
      "text/plain": [
       "   id_film  id_genre\n",
       "0      1.0      21.0\n",
       "1      1.0       5.0"
      ]
     },
     "execution_count": 28,
     "metadata": {},
     "output_type": "execute_result"
    }
   ],
   "source": [
    "path='./tables/genre_film.xlsx'\n",
    "genre_film = pd.read_excel(path).astype('float64')\n",
    "genre_film.head(2)"
   ]
  },
  {
   "cell_type": "code",
   "execution_count": 217,
   "metadata": {},
   "outputs": [],
   "source": [
    "# Ajout dans la bdd\n",
    "global cursor \n",
    "global bdd \n",
    "\n",
    "connexion() \n",
    "for index, row in genre_film.iterrows():\n",
    "    query = 'INSERT INTO genre_film(id_film,id_genre) VALUES(%s,%s);'\n",
    "    param = (row.id_film, row.id_genre) \n",
    "    cursor.execute(query, param) \n",
    "    bdd.commit()\n",
    "deconnexion() \n",
    "    "
   ]
  },
  {
   "cell_type": "code",
   "execution_count": null,
   "metadata": {},
   "outputs": [],
   "source": []
  },
  {
   "cell_type": "markdown",
   "metadata": {},
   "source": [
    "## 4) Créer une vue et une procédure stockée"
   ]
  },
  {
   "cell_type": "markdown",
   "metadata": {},
   "source": [
    "### 4.1) Création d'une vue montrant les titres et ses status de Tomatometer et d'audiance :"
   ]
  },
  {
   "cell_type": "code",
   "execution_count": 36,
   "metadata": {},
   "outputs": [
    {
     "data": {
      "text/plain": [
       "<mysql.connector.cursor_cext.CMySQLCursor at 0x16dd97fcb50>"
      ]
     },
     "execution_count": 36,
     "metadata": {},
     "output_type": "execute_result"
    }
   ],
   "source": [
    "# Créer une vue\n",
    "global cursor \n",
    "global bdd \n",
    "\n",
    "connexion() \n",
    "\n",
    "query = 'CREATE VIEW status_films AS SELECT films.titre, tomatometer_status.tomatometer, note_audience.label_audience FROM films JOIN tomatometer_status ON tomatometer_status.id_tomatometer_status=films.id_tomatometer_status JOIN note_audience ON note_audience.id_audience=films.id_audience_status;'\n",
    "cursor.execute(query) \n",
    "deconnexion()\n",
    "\n",
    "cursor"
   ]
  },
  {
   "cell_type": "markdown",
   "metadata": {},
   "source": [
    "### 4.2) Création Procédure stockée qui renvoie la liste d'acteurs formatée avec des ',' :"
   ]
  },
  {
   "cell_type": "code",
   "execution_count": 37,
   "metadata": {},
   "outputs": [],
   "source": [
    "# Créer une procédure\n",
    "global cursor \n",
    "global bdd \n",
    "\n",
    "connexion() \n",
    "\n",
    "query = \"\"\"DROP PROCEDURE IF EXISTS get_acteurs_from_film_id;\n",
    "\n",
    "DELIMITER //\n",
    "CREATE PROCEDURE rotten_tomatoes.get_acteurs_from_film_id\n",
    "(IN id INT(11))\n",
    "BEGIN\n",
    "\n",
    "SELECT GROUP_CONCAT(`identite_personne` SEPARATOR ', ')\n",
    " FROM personnes\n",
    " NATURAL JOIN acteur\n",
    " WHERE acteur.id_film = id\n",
    " ;\n",
    "\n",
    "END //\n",
    "DELIMITER ; \n",
    "\"\"\"\n",
    "cursor.execute(query) \n",
    "deconnexion()"
   ]
  },
  {
   "cell_type": "code",
   "execution_count": null,
   "metadata": {},
   "outputs": [],
   "source": []
  },
  {
   "cell_type": "code",
   "execution_count": null,
   "metadata": {},
   "outputs": [],
   "source": []
  }
 ],
 "metadata": {
  "kernelspec": {
   "display_name": "Python 3 (ipykernel)",
   "language": "python",
   "name": "python3"
  },
  "language_info": {
   "codemirror_mode": {
    "name": "ipython",
    "version": 3
   },
   "file_extension": ".py",
   "mimetype": "text/x-python",
   "name": "python",
   "nbconvert_exporter": "python",
   "pygments_lexer": "ipython3",
   "version": "3.8.12"
  }
 },
 "nbformat": 4,
 "nbformat_minor": 4
}
